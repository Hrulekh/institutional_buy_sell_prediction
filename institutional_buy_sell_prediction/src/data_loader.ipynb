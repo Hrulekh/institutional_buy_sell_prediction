{
 "cells": [
  {
   "cell_type": "code",
   "execution_count": null,
   "id": "527cc751-034e-4626-88c0-e99886fbcdcc",
   "metadata": {},
   "outputs": [],
   "source": [
    "%pip install pandas\n"
   ]
  },
  {
   "cell_type": "code",
   "execution_count": 5,
   "id": "733bfad3-590d-46ba-88bb-d39ee8b352f8",
   "metadata": {},
   "outputs": [],
   "source": [
    "import pandas as pd\n",
    "\n",
    "def load_data(filepath):\n",
    "    df = pd.read_csv(filepath)\n",
    "\n",
    "    # Clean column names\n",
    "    df.columns = df.columns.str.strip()\n",
    "\n",
    "    # Remove commas and convert to float where necessary\n",
    "    if 'VALUE' in df.columns:\n",
    "        df['VALUE'] = df['VALUE'].astype(str).str.replace(',', '').astype(float)\n",
    "\n",
    "    # Clean and convert 'close' and 'PREV. CLOSE'\n",
    "    df['close'] = pd.to_numeric(df['close'].astype(str).str.replace(',', '').str.strip(), errors='coerce')\n",
    "    df['PREV. CLOSE'] = pd.to_numeric(df['PREV. CLOSE'].astype(str).str.replace(',', '').str.strip(), errors='coerce')\n",
    "\n",
    "    # Drop rows with missing values in important columns\n",
    "    df.dropna(subset=['close', 'PREV. CLOSE'], inplace=True)\n",
    "\n",
    "    # Create features\n",
    "    df['Price Change %'] = ((df['close'] - df['PREV. CLOSE']) / df['PREV. CLOSE']) * 100\n",
    "\n",
    "    if 'HIGH' in df.columns and 'LOW' in df.columns:\n",
    "        df['Volatility'] = pd.to_numeric(df['HIGH'], errors='coerce') - pd.to_numeric(df['LOW'], errors='coerce')\n",
    "\n",
    "    return df\n"
   ]
  },
  {
   "cell_type": "code",
   "execution_count": null,
   "id": "11a4a621-fc3c-4f1f-96fb-23872916e46a",
   "metadata": {},
   "outputs": [],
   "source": []
  }
 ],
 "metadata": {
  "kernelspec": {
   "display_name": "Python 3 (ipykernel)",
   "language": "python",
   "name": "python3"
  },
  "language_info": {
   "codemirror_mode": {
    "name": "ipython",
    "version": 3
   },
   "file_extension": ".py",
   "mimetype": "text/x-python",
   "name": "python",
   "nbconvert_exporter": "python",
   "pygments_lexer": "ipython3",
   "version": "3.12.2"
  }
 },
 "nbformat": 4,
 "nbformat_minor": 5
}
